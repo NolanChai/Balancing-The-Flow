{
 "cells": [
  {
   "cell_type": "markdown",
   "metadata": {},
   "source": [
    "# Fine-Tuning Llama 2 with LoRA on a Local Dataset\n",
    "This is designed for local usage, but can be used with Google Colaboratory.\n",
    "\n",
    "If you are running on a local environment, please make sure you have run `uv sync` to get all dependencies.\n",
    "\n",
    "Otherwise, run the following.\n",
    "\n",
    "**As of 4/10/2025, we are running on:**\n",
    "- torch==2.6.0\n",
    "- peft==0.15.1"
   ]
  },
  {
   "cell_type": "markdown",
   "metadata": {},
   "source": [
    "## Data Preprocessing\n",
    "I've realized that I accidentally have Sources omitted from the `.gitignore`, so we need to do some data preprocessing, by reconstructing the data from the surprisal `.csv`s that we generated from our scripts earlier. Once the refactoring for this repository is fully done, these won't be necessary. "
   ]
  },
  {
   "cell_type": "code",
   "execution_count": 6,
   "metadata": {},
   "outputs": [],
   "source": [
    "import pandas as pd\n",
    "import glob\n",
    "\n",
    "filepaths = glob.glob(\"/Users/nolan/Documents/GitHub/Balancing-The-Flow/Surprisals/human_texts/human_*.csv\")\n",
    "dfs = [pd.read_csv(fp) for fp in filepaths]\n",
    "df = pd.concat(dfs, ignore_index=True)\n",
    "\n",
    "text = \" \".join(df[\"token\"].astype(str).tolist())"
   ]
  },
  {
   "cell_type": "code",
   "execution_count": 11,
   "metadata": {},
   "outputs": [
    {
     "name": "stdout",
     "output_type": "stream",
     "text": [
      "8534853\n"
     ]
    }
   ],
   "source": [
    "print(len(text))"
   ]
  },
  {
   "cell_type": "code",
   "execution_count": null,
   "metadata": {},
   "outputs": [],
   "source": [
    "import torch\n",
    "from datasets import load_dataset\n",
    "\n"
   ]
  },
  {
   "cell_type": "code",
   "execution_count": null,
   "metadata": {},
   "outputs": [],
   "source": []
  }
 ],
 "metadata": {
  "kernelspec": {
   "display_name": ".venv",
   "language": "python",
   "name": "python3"
  },
  "language_info": {
   "codemirror_mode": {
    "name": "ipython",
    "version": 3
   },
   "file_extension": ".py",
   "mimetype": "text/x-python",
   "name": "python",
   "nbconvert_exporter": "python",
   "pygments_lexer": "ipython3",
   "version": "3.13.2"
  }
 },
 "nbformat": 4,
 "nbformat_minor": 4
}
