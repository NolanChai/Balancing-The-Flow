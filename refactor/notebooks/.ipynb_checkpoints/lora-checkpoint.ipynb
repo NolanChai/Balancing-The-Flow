{
 "cells": [
  {
   "cell_type": "markdown",
   "metadata": {},
   "source": [
    "# Fine-Tuning Llama 2 with LoRA on a Local Dataset\n",
    "This is designed for local usage, but can be used with Google Colaboratory.\n",
    "\n",
    "If you are running on a local environment, please make sure you have run `uv sync` to get all dependencies.\n",
    "\n",
    "Otherwise, run the following.\n",
    "\n",
    "**As of 4/10/2025, we are running on:**\n",
    "- torch==2.6.0\n",
    "- peft==0.15.1"
   ]
  },
  {
   "cell_type": "code",
   "execution_count": 4,
   "metadata": {},
   "outputs": [],
   "source": [
    "!uv -q sync"
   ]
  },
  {
   "cell_type": "code",
   "execution_count": null,
   "metadata": {},
   "outputs": [],
   "source": [
    "import torch\n",
    "from datasets import load_dataset\n",
    "\n"
   ]
  }
 ],
 "metadata": {
  "kernelspec": {
   "display_name": "Python 3 (ipykernel)",
   "language": "python",
   "name": "python3"
  },
  "language_info": {
   "codemirror_mode": {
    "name": "ipython",
    "version": 3
   },
   "file_extension": ".py",
   "mimetype": "text/x-python",
   "name": "python",
   "nbconvert_exporter": "python",
   "pygments_lexer": "ipython3",
   "version": "3.12.9"
  }
 },
 "nbformat": 4,
 "nbformat_minor": 4
}
