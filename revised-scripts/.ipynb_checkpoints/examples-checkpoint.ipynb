{
 "cells": [
  {
   "cell_type": "markdown",
   "id": "5f004d50-720b-4087-a710-d45696d2697e",
   "metadata": {},
   "source": [
    "### Imports"
   ]
  },
  {
   "cell_type": "code",
   "execution_count": 1,
   "id": "f04a481a-4b26-4291-bd52-51a6ee5fbb4f",
   "metadata": {},
   "outputs": [],
   "source": [
    "import sys\n",
    "import os\n",
    "\n",
    "# for weird env bug\n",
    "current_dir = os.getcwd()\n",
    "if current_dir not in sys.path:\n",
    "    sys.path.append(current_dir)\n",
    "    \n",
    "# Now import from utils\n",
    "from utils import *\n",
    "from utils import LLM"
   ]
  },
  {
   "cell_type": "markdown",
   "id": "8356713f-5e69-4ef3-8704-70b45c068f40",
   "metadata": {},
   "source": [
    "### Huggingface Login"
   ]
  },
  {
   "cell_type": "code",
   "execution_count": 2,
   "id": "e330a1ee-5a61-4143-8da2-5763081cef2d",
   "metadata": {},
   "outputs": [
    {
     "data": {
      "application/vnd.jupyter.widget-view+json": {
       "model_id": "d5c44cc4f3124814b4f90422785148fa",
       "version_major": 2,
       "version_minor": 0
      },
      "text/plain": [
       "VBox(children=(HTML(value='<center> <img\\nsrc=https://huggingface.co/front/assets/huggingface_logo-noborder.sv…"
      ]
     },
     "metadata": {},
     "output_type": "display_data"
    }
   ],
   "source": [
    "from huggingface_hub import login\n",
    "login()"
   ]
  },
  {
   "cell_type": "code",
   "execution_count": 3,
   "id": "cdf28a3f-7051-4bbc-9743-453e3f6cf2ef",
   "metadata": {},
   "outputs": [
    {
     "name": "stdout",
     "output_type": "stream",
     "text": [
      "[2025-05-14 12:51:37] Successfully connected to API at http://localhost:1234/v1.\n",
      "[2025-05-14 12:51:37] Loading cached dataset abisee_cnn_dailymail ✓ Done   \n",
      "[2025-05-14 12:51:37] Loaded dataset abisee_cnn_dailymail from cache with 11490 examples\n",
      "                                                                           "
     ]
    },
    {
     "data": {
      "application/vnd.jupyter.widget-view+json": {
       "model_id": "f711e60d00af4d44b56c76d4dd097f7b",
       "version_major": 2,
       "version_minor": 0
      },
      "text/plain": [
       "Output()"
      ]
     },
     "metadata": {},
     "output_type": "display_data"
    },
    {
     "data": {
      "text/html": [
       "<pre style=\"white-space:pre;overflow-x:auto;line-height:normal;font-family:Menlo,'DejaVu Sans Mono',consolas,'Courier New',monospace\">[2025-05-14 12:51:37] Batch generation complete: 0 generated, 0 retries, 0 errors\n",
       "</pre>\n"
      ],
      "text/plain": [
       "[2025-05-14 12:51:37] Batch generation complete: 0 generated, 0 retries, 0 errors\n"
      ]
     },
     "metadata": {},
     "output_type": "display_data"
    },
    {
     "name": "stdout",
     "output_type": "stream",
     "text": [
      "[2025-05-14 12:51:37] Resuming from ID 5\n"
     ]
    },
    {
     "data": {
      "text/html": [
       "<pre style=\"white-space:pre;overflow-x:auto;line-height:normal;font-family:Menlo,'DejaVu Sans Mono',consolas,'Courier New',monospace\"></pre>\n"
      ],
      "text/plain": []
     },
     "metadata": {},
     "output_type": "display_data"
    }
   ],
   "source": [
    "test = LLM.Model(model=\"llama-2-7b\")\n",
    "test.batch_generate(n=5)"
   ]
  },
  {
   "cell_type": "code",
   "execution_count": 1,
   "id": "eb9a0ccc-73b5-4397-97d8-b8f13becf2bc",
   "metadata": {},
   "outputs": [
    {
     "name": "stdout",
     "output_type": "stream",
     "text": [
      "[[2025-05-14 14:17:44]] Finding all generation files ✓ Done   \n",
      "                                                              "
     ]
    },
    {
     "data": {
      "application/vnd.jupyter.widget-view+json": {
       "model_id": "95ac181d444845aa98f56be026016561",
       "version_major": 2,
       "version_minor": 0
      },
      "text/plain": [
       "Output()"
      ]
     },
     "metadata": {},
     "output_type": "display_data"
    },
    {
     "data": {
      "text/html": [
       "<pre style=\"white-space:pre;overflow-x:auto;line-height:normal;font-family:Menlo,'DejaVu Sans Mono',consolas,'Courier New',monospace\"></pre>\n"
      ],
      "text/plain": []
     },
     "metadata": {},
     "output_type": "display_data"
    },
    {
     "name": "stdout",
     "output_type": "stream",
     "text": [
      "Consolidated 4 datasets into CSV files in /Users/nolan/Documents/GitHub/Balancing-The-Flow/Generations-csv\n",
      "  - daily_dialog: /Users/nolan/Documents/GitHub/Balancing-The-Flow/Generations-csv/daily_dialog_consolidated.csv\n",
      "  - cnn_dailymail: /Users/nolan/Documents/GitHub/Balancing-The-Flow/Generations-csv/cnn_dailymail_consolidated.csv\n",
      "  - WildChat: /Users/nolan/Documents/GitHub/Balancing-The-Flow/Generations-csv/WildChat_consolidated.csv\n",
      "  - writingprompts: /Users/nolan/Documents/GitHub/Balancing-The-Flow/Generations-csv/writingprompts_consolidated.csv\n"
     ]
    },
    {
     "data": {
      "text/plain": [
       "{'daily_dialog': PosixPath('/Users/nolan/Documents/GitHub/Balancing-The-Flow/Generations-csv/daily_dialog_consolidated.csv'),\n",
       " 'cnn_dailymail': PosixPath('/Users/nolan/Documents/GitHub/Balancing-The-Flow/Generations-csv/cnn_dailymail_consolidated.csv'),\n",
       " 'WildChat': PosixPath('/Users/nolan/Documents/GitHub/Balancing-The-Flow/Generations-csv/WildChat_consolidated.csv'),\n",
       " 'writingprompts': PosixPath('/Users/nolan/Documents/GitHub/Balancing-The-Flow/Generations-csv/writingprompts_consolidated.csv')}"
      ]
     },
     "execution_count": 1,
     "metadata": {},
     "output_type": "execute_result"
    }
   ],
   "source": [
    "from utils.utils import consolidate_generations\n",
    "\n",
    "consolidate_generations(\n",
    "    r\"/Users/nolan/Documents/GitHub/Balancing-The-Flow/Generations\",\n",
    "    r\"/Users/nolan/Documents/GitHub/Balancing-The-Flow/Generations-csv\"\n",
    ")"
   ]
  },
  {
   "cell_type": "code",
   "execution_count": null,
   "id": "8b35c9d5-31ac-47f0-93ae-7af1c0e3b97a",
   "metadata": {},
   "outputs": [],
   "source": []
  },
  {
   "cell_type": "code",
   "execution_count": null,
   "id": "2a6fe117-02f7-4667-a014-546ab247eb4e",
   "metadata": {},
   "outputs": [],
   "source": []
  }
 ],
 "metadata": {
  "kernelspec": {
   "display_name": "Python 3 (ipykernel)",
   "language": "python",
   "name": "python3"
  },
  "language_info": {
   "codemirror_mode": {
    "name": "ipython",
    "version": 3
   },
   "file_extension": ".py",
   "mimetype": "text/x-python",
   "name": "python",
   "nbconvert_exporter": "python",
   "pygments_lexer": "ipython3",
   "version": "3.12.9"
  }
 },
 "nbformat": 4,
 "nbformat_minor": 5
}
