{
 "cells": [
  {
   "cell_type": "markdown",
   "id": "5f004d50-720b-4087-a710-d45696d2697e",
   "metadata": {},
   "source": [
    "### Imports"
   ]
  },
  {
   "cell_type": "code",
   "execution_count": 1,
   "id": "f04a481a-4b26-4291-bd52-51a6ee5fbb4f",
   "metadata": {},
   "outputs": [],
   "source": [
    "import sys\n",
    "import os\n",
    "\n",
    "# for weird env bug\n",
    "current_dir = os.getcwd()\n",
    "if current_dir not in sys.path:\n",
    "    sys.path.append(current_dir)\n",
    "    \n",
    "# Now import from utils\n",
    "from utils import *\n",
    "from utils import LLM"
   ]
  },
  {
   "cell_type": "markdown",
   "id": "8356713f-5e69-4ef3-8704-70b45c068f40",
   "metadata": {},
   "source": [
    "### Huggingface Login"
   ]
  },
  {
   "cell_type": "code",
   "execution_count": 2,
   "id": "e330a1ee-5a61-4143-8da2-5763081cef2d",
   "metadata": {},
   "outputs": [
    {
     "data": {
      "application/vnd.jupyter.widget-view+json": {
       "model_id": "48cdd431e1e54470b6f1cea88ed11ef0",
       "version_major": 2,
       "version_minor": 0
      },
      "text/plain": [
       "VBox(children=(HTML(value='<center> <img\\nsrc=https://huggingface.co/front/assets/huggingface_logo-noborder.sv…"
      ]
     },
     "metadata": {},
     "output_type": "display_data"
    }
   ],
   "source": [
    "from huggingface_hub import login\n",
    "login()"
   ]
  },
  {
   "cell_type": "code",
   "execution_count": 3,
   "id": "cdf28a3f-7051-4bbc-9743-453e3f6cf2ef",
   "metadata": {},
   "outputs": [
    {
     "name": "stdout",
     "output_type": "stream",
     "text": [
      "[2025-05-14 15:02:46] Successfully connected to API at http://localhost:1234/v1.\n",
      "[2025-05-14 15:02:46] Loading cached dataset abisee_cnn_dailymail ✓ Done   \n",
      "[2025-05-14 15:02:46] Loaded dataset abisee_cnn_dailymail from cache with 11490 examples\n",
      "                                                                           "
     ]
    },
    {
     "data": {
      "application/vnd.jupyter.widget-view+json": {
       "model_id": "6554aceb5ff34a398ab10b8d85ea0d95",
       "version_major": 2,
       "version_minor": 0
      },
      "text/plain": [
       "Output()"
      ]
     },
     "metadata": {},
     "output_type": "display_data"
    },
    {
     "data": {
      "text/html": [
       "<pre style=\"white-space:pre;overflow-x:auto;line-height:normal;font-family:Menlo,'DejaVu Sans Mono',consolas,'Courier New',monospace\">[2025-05-14 15:02:46] Batch generation complete: 0 generated, 0 retries, 0 errors\n",
       "</pre>\n"
      ],
      "text/plain": [
       "[2025-05-14 15:02:46] Batch generation complete: 0 generated, 0 retries, 0 errors\n"
      ]
     },
     "metadata": {},
     "output_type": "display_data"
    },
    {
     "name": "stdout",
     "output_type": "stream",
     "text": [
      "[2025-05-14 15:02:46] Resuming from ID 5\n"
     ]
    },
    {
     "data": {
      "text/html": [
       "<pre style=\"white-space:pre;overflow-x:auto;line-height:normal;font-family:Menlo,'DejaVu Sans Mono',consolas,'Courier New',monospace\"></pre>\n"
      ],
      "text/plain": []
     },
     "metadata": {},
     "output_type": "display_data"
    }
   ],
   "source": [
    "test = LLM.Model(model=\"llama-2-7b\")\n",
    "test.batch_generate(n=5)"
   ]
  },
  {
   "cell_type": "code",
   "execution_count": 4,
   "id": "eb9a0ccc-73b5-4397-97d8-b8f13becf2bc",
   "metadata": {},
   "outputs": [
    {
     "name": "stdout",
     "output_type": "stream",
     "text": [
      "[[2025-05-14 15:02:51]] Finding all generation files ✓ Done   \n",
      "                                                              "
     ]
    },
    {
     "data": {
      "application/vnd.jupyter.widget-view+json": {
       "model_id": "7ccf09c5a0664277a88946a228274bf6",
       "version_major": 2,
       "version_minor": 0
      },
      "text/plain": [
       "Output()"
      ]
     },
     "metadata": {},
     "output_type": "display_data"
    },
    {
     "data": {
      "text/html": [
       "<pre style=\"white-space:pre;overflow-x:auto;line-height:normal;font-family:Menlo,'DejaVu Sans Mono',consolas,'Courier New',monospace\"></pre>\n"
      ],
      "text/plain": []
     },
     "metadata": {},
     "output_type": "display_data"
    },
    {
     "name": "stdout",
     "output_type": "stream",
     "text": [
      "[2025-05-14 15:02:53] Consolidated 4 datasets into CSV files in /Users/nolan/Documents/GitHub/Balancing-The-Flow/Generations-csv\n"
     ]
    },
    {
     "data": {
      "text/plain": [
       "{'daily_dialog': PosixPath('/Users/nolan/Documents/GitHub/Balancing-The-Flow/Generations-csv/daily_dialog_consolidated.csv'),\n",
       " 'cnn_dailymail': PosixPath('/Users/nolan/Documents/GitHub/Balancing-The-Flow/Generations-csv/cnn_dailymail_consolidated.csv'),\n",
       " 'WildChat': PosixPath('/Users/nolan/Documents/GitHub/Balancing-The-Flow/Generations-csv/WildChat_consolidated.csv'),\n",
       " 'writingprompts': PosixPath('/Users/nolan/Documents/GitHub/Balancing-The-Flow/Generations-csv/writingprompts_consolidated.csv')}"
      ]
     },
     "execution_count": 4,
     "metadata": {},
     "output_type": "execute_result"
    }
   ],
   "source": [
    "from utils.utils import consolidate_generations\n",
    "\n",
    "consolidate_generations(\n",
    "    r\"/Users/nolan/Documents/GitHub/Balancing-The-Flow/Generations\",\n",
    "    r\"/Users/nolan/Documents/GitHub/Balancing-The-Flow/Generations-csv\"\n",
    ")"
   ]
  },
  {
   "cell_type": "code",
   "execution_count": 2,
   "id": "2a6fe117-02f7-4667-a014-546ab247eb4e",
   "metadata": {},
   "outputs": [],
   "source": [
    "from utils.utils import calculate_surprisals, process_csv_files_with_surprisals\n",
    "from utils.utils import analyze_token_lengths, plot_token_length_distribution, save_token_stats_to_csv"
   ]
  },
  {
   "cell_type": "code",
   "execution_count": 3,
   "id": "153e8e5f-ef5a-4612-9055-3718f9085748",
   "metadata": {},
   "outputs": [],
   "source": [
    "csv_files = [\n",
    "        \"/Users/nolan/Documents/GitHub/Balancing-The-Flow/Generations-csv/cnn_dailymail_consolidated.csv\",\n",
    "        \"/Users/nolan/Documents/GitHub/Balancing-The-Flow/Generations-csv/daily_dialog_consolidated.csv\",\n",
    "        \"/Users/nolan/Documents/GitHub/Balancing-The-Flow/Generations-csv/WildChat_consolidated.csv\",\n",
    "        \"/Users/nolan/Documents/GitHub/Balancing-The-Flow/Generations-csv/writingprompts_consolidated.csv\"\n",
    "    ]"
   ]
  },
  {
   "cell_type": "code",
   "execution_count": 4,
   "id": "fd582712-2060-43e2-be0a-748073609a7f",
   "metadata": {},
   "outputs": [],
   "source": [
    "import os"
   ]
  },
  {
   "cell_type": "code",
   "execution_count": 5,
   "id": "f8e9f9ed-e47a-4c76-9fef-5a0db06487c6",
   "metadata": {},
   "outputs": [],
   "source": [
    "base_output_dir = \"/Users/nolan/Documents/GitHub/Balancing-The-Flow/surprisal_analysis\"\n",
    "surprisal_output_dir = os.path.join(base_output_dir, \"surprisal_results\")\n",
    "analysis_output_dir = os.path.join(base_output_dir, \"analysis\")\n",
    "os.makedirs(base_output_dir, exist_ok=True)"
   ]
  },
  {
   "cell_type": "code",
   "execution_count": 7,
   "id": "ea278368-2474-4d04-98dd-be236041ea8d",
   "metadata": {},
   "outputs": [],
   "source": [
    "from utils.utils import calculate_surprisals_sliding_window, calculate_surprisals_sliding_window"
   ]
  },
  {
   "cell_type": "code",
   "execution_count": 8,
   "id": "095e481b-9815-4d0d-9f8b-df082b0e160c",
   "metadata": {},
   "outputs": [
    {
     "name": "stdout",
     "output_type": "stream",
     "text": [
      "Using window size: 1024, stride: 512, max_length: 2048\n",
      "Processing /Users/nolan/Documents/GitHub/Balancing-The-Flow/Generations-csv/cnn_dailymail_consolidated.csv...\n"
     ]
    },
    {
     "name": "stderr",
     "output_type": "stream",
     "text": [
      "Calculating surprisals for cnn_dailymail_consolidated.csv:   0%|                                                        | 0/2400 [00:00<?, ?it/s]`loss_type=None` was set in the config but it is unrecognised.Using the default loss: `ForCausalLMLoss`.\n",
      "Calculating surprisals for cnn_dailymail_consolidated.csv:  13%|█████▉                                        | 312/2400 [01:13<09:06,  3.82it/s]Token indices sequence length is longer than the specified maximum sequence length for this model (1637 > 1024). Running this sequence through the model will result in indexing errors\n",
      "Calculating surprisals for cnn_dailymail_consolidated.csv: 100%|█████████████████████████████████████████████| 2400/2400 [25:30<00:00,  1.57it/s]\n"
     ]
    },
    {
     "name": "stdout",
     "output_type": "stream",
     "text": [
      "Saved results for /Users/nolan/Documents/GitHub/Balancing-The-Flow/Generations-csv/cnn_dailymail_consolidated.csv to /Users/nolan/Documents/GitHub/Balancing-The-Flow/surprisal_analysis/surprisal_results\n",
      "Processing /Users/nolan/Documents/GitHub/Balancing-The-Flow/Generations-csv/daily_dialog_consolidated.csv...\n"
     ]
    },
    {
     "name": "stderr",
     "output_type": "stream",
     "text": [
      "Calculating surprisals for daily_dialog_consolidated.csv: 100%|██████████████████████████████████████████████| 2400/2400 [10:50<00:00,  3.69it/s]\n"
     ]
    },
    {
     "name": "stdout",
     "output_type": "stream",
     "text": [
      "Saved results for /Users/nolan/Documents/GitHub/Balancing-The-Flow/Generations-csv/daily_dialog_consolidated.csv to /Users/nolan/Documents/GitHub/Balancing-The-Flow/surprisal_analysis/surprisal_results\n",
      "Processing /Users/nolan/Documents/GitHub/Balancing-The-Flow/Generations-csv/WildChat_consolidated.csv...\n"
     ]
    },
    {
     "name": "stderr",
     "output_type": "stream",
     "text": [
      "Calculating surprisals for WildChat_consolidated.csv: 100%|██████████████████████████████████████████████████| 2400/2400 [18:32<00:00,  2.16it/s]\n"
     ]
    },
    {
     "name": "stdout",
     "output_type": "stream",
     "text": [
      "Saved results for /Users/nolan/Documents/GitHub/Balancing-The-Flow/Generations-csv/WildChat_consolidated.csv to /Users/nolan/Documents/GitHub/Balancing-The-Flow/surprisal_analysis/surprisal_results\n",
      "Processing /Users/nolan/Documents/GitHub/Balancing-The-Flow/Generations-csv/writingprompts_consolidated.csv...\n"
     ]
    },
    {
     "name": "stderr",
     "output_type": "stream",
     "text": [
      "Calculating surprisals for writingprompts_consolidated.csv: 100%|████████████████████████████████████████████| 2353/2353 [28:51<00:00,  1.36it/s]\n"
     ]
    },
    {
     "name": "stdout",
     "output_type": "stream",
     "text": [
      "Saved results for /Users/nolan/Documents/GitHub/Balancing-The-Flow/Generations-csv/writingprompts_consolidated.csv to /Users/nolan/Documents/GitHub/Balancing-The-Flow/surprisal_analysis/surprisal_results\n"
     ]
    }
   ],
   "source": [
    "results = calculate_surprisals_sliding_window(\n",
    "        csv_files=csv_files,\n",
    "        tokenizer_source=\"gpt2\",\n",
    "        max_length=2048,  # Maximum length to consider\n",
    "        window_size=1024, # GPT-2's maximum context window\n",
    "        stride=512,       # 50% overlap between windows\n",
    "        output_dir=surprisal_output_dir\n",
    "    )"
   ]
  },
  {
   "cell_type": "code",
   "execution_count": 9,
   "id": "6fe615ac-1c23-4199-a0fd-2edf1c61f596",
   "metadata": {},
   "outputs": [
    {
     "ename": "NameError",
     "evalue": "name 'analyze_sliding_window_results' is not defined",
     "output_type": "error",
     "traceback": [
      "\u001b[31m---------------------------------------------------------------------------\u001b[39m",
      "\u001b[31mNameError\u001b[39m                                 Traceback (most recent call last)",
      "\u001b[36mCell\u001b[39m\u001b[36m \u001b[39m\u001b[32mIn[9]\u001b[39m\u001b[32m, line 1\u001b[39m\n\u001b[32m----> \u001b[39m\u001b[32m1\u001b[39m \u001b[43manalyze_sliding_window_results\u001b[49m(\n\u001b[32m      2\u001b[39m     results=results,\n\u001b[32m      3\u001b[39m     output_dir=analysis_output_dir\n\u001b[32m      4\u001b[39m )\n",
      "\u001b[31mNameError\u001b[39m: name 'analyze_sliding_window_results' is not defined"
     ]
    }
   ],
   "source": [
    "analyze_sliding_window_results(\n",
    "    results=results,\n",
    "    output_dir=analysis_output_dir\n",
    ")"
   ]
  },
  {
   "cell_type": "code",
   "execution_count": null,
   "id": "b9052de1-546d-4d89-ac42-cf268ef9f291",
   "metadata": {},
   "outputs": [],
   "source": []
  }
 ],
 "metadata": {
  "kernelspec": {
   "display_name": "Python 3 (ipykernel)",
   "language": "python",
   "name": "python3"
  },
  "language_info": {
   "codemirror_mode": {
    "name": "ipython",
    "version": 3
   },
   "file_extension": ".py",
   "mimetype": "text/x-python",
   "name": "python",
   "nbconvert_exporter": "python",
   "pygments_lexer": "ipython3",
   "version": "3.12.9"
  }
 },
 "nbformat": 4,
 "nbformat_minor": 5
}
