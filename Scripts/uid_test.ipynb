{
 "cells": [
  {
   "cell_type": "code",
   "execution_count": 7,
   "metadata": {},
   "outputs": [],
   "source": [
    "import torch\n",
    "from pprint import pprint\n",
    "from transformers import GPT2Tokenizer, GPT2LMHeadModel\n",
    "import numpy as np\n",
    "import pandas as pd\n",
    "import seaborn as sns\n",
    "import matplotlib.pyplot as plt\n",
    "from pathlib import Path\n",
    "\n",
    "import os\n",
    "\n",
    "from utils import *"
   ]
  },
  {
   "cell_type": "code",
   "execution_count": 39,
   "metadata": {},
   "outputs": [],
   "source": [
    "batch = []\n",
    "human_surps_dirs = list(Path(r\"C:\\Users\\Tianqi Zhang\\Desktop\\Balancing-The-Flow\\Surprisal_outputs\\human\").iterdir())\n",
    "mst_surps_dirs = list(Path(r\"C:\\Users\\Tianqi Zhang\\Desktop\\Balancing-The-Flow\\Surprisal_outputs\\mistral-7b-v0.1\").iterdir())\n",
    "\n",
    "human_UIDs = []\n",
    "mist_UIDs = []\n",
    "for human_surps_dir, mst_surps_dir in zip(human_surps_dirs, mst_surps_dirs):\n",
    "    try:\n",
    "        human_surps = pd.read_csv(human_surps_dir).iloc[:, 1:]\n",
    "        mst_surps = pd.read_csv(mst_surps_dir).iloc[:, 1:]\n",
    "\n",
    "        h_UID = UID_variance(human_surps)\n",
    "        m_UID = UID_variance(mst_surps)\n",
    "\n",
    "        human_UIDs.append(h_UID)\n",
    "        mist_UIDs.append(m_UID)\n",
    "    except:\n",
    "        continue\n"
   ]
  },
  {
   "cell_type": "code",
   "execution_count": 40,
   "metadata": {},
   "outputs": [
    {
     "data": {
      "text/plain": [
       "(np.float64(15.486457856865723), np.float64(10.583646373403004))"
      ]
     },
     "execution_count": 40,
     "metadata": {},
     "output_type": "execute_result"
    }
   ],
   "source": [
    "np.mean(human_UIDs), np.mean(mist_UIDs)"
   ]
  },
  {
   "cell_type": "code",
   "execution_count": 41,
   "metadata": {},
   "outputs": [],
   "source": [
    "all_UIDs = human_UIDs + mist_UIDs\n",
    "obs_ts = np.mean(human_UIDs) - np.mean(mist_UIDs)\n",
    "sim_ts = []\n",
    "for i in range(1000):\n",
    "    permuted = np.random.permutation(all_UIDs)\n",
    "    half_length = len(permuted) // 2\n",
    "    sim = np.mean(permuted[:half_length]) - np.mean(permuted[half_length:])\n",
    "    sim_ts.append(sim)"
   ]
  },
  {
   "cell_type": "code",
   "execution_count": 42,
   "metadata": {},
   "outputs": [
    {
     "data": {
      "text/plain": [
       "<Axes: ylabel='Count'>"
      ]
     },
     "execution_count": 42,
     "metadata": {},
     "output_type": "execute_result"
    },
    {
     "data": {
      "image/png": "[encoded data removed]",
      "text/plain": [
       "<Figure size 640x480 with 1 Axes>"
      ]
     },
     "metadata": {},
     "output_type": "display_data"
    }
   ],
   "source": [
    "sns.histplot(sim_ts, bins=20)\n",
    "sns.lineplot(x=[obs_ts, obs_ts], y=[0, 140], color='red')"
   ]
  },
  {
   "cell_type": "code",
   "execution_count": 20,
   "metadata": {},
   "outputs": [
    {
     "data": {
      "text/plain": [
       "WindowsPath('test2/file.csv')"
      ]
     },
     "execution_count": 20,
     "metadata": {},
     "output_type": "execute_result"
    }
   ],
   "source": [
    "from pathlib import Path\n",
    "p = Path(\"test/file.txt\")\n",
    "r = Path(\"test2\")\n",
    "r / p.with_suffix(\".csv\").name"
   ]
  },
  {
   "cell_type": "code",
   "execution_count": null,
   "metadata": {},
   "outputs": [],
   "source": []
  }
 ],
 "metadata": {
  "kernelspec": {
   "display_name": "Python 3 (ipykernel)",
   "language": "python",
   "name": "python3"
  },
  "language_info": {
   "codemirror_mode": {
    "name": "ipython",
    "version": 3
   },
   "file_extension": ".py",
   "mimetype": "text/x-python",
   "name": "python",
   "nbconvert_exporter": "python",
   "pygments_lexer": "ipython3",
   "version": "3.12.8"
  }
 },
 "nbformat": 4,
 "nbformat_minor": 4
}
